{
 "cells": [
  {
   "cell_type": "markdown",
   "metadata": {},
   "source": [
    "# Permutations and Factorials - Lab"
   ]
  },
  {
   "cell_type": "markdown",
   "metadata": {},
   "source": [
    "## Introduction"
   ]
  },
  {
   "cell_type": "markdown",
   "metadata": {},
   "source": [
    "Before, we saw how the creation of a sample space is crucial in finding probabilities. The issue, however is that, when the sample space grows bigger, it is not straightforward to manually compute the size of sample sets anymore.\n",
    "\n",
    "Luckily, probability theory provides us with several formulas that can help us out. One set of formulas is known as **permutations**. This lab will help you get a better understanding of permutations, and provide practice!"
   ]
  },
  {
   "cell_type": "markdown",
   "metadata": {},
   "source": [
    "## Objectives"
   ]
  },
  {
   "cell_type": "markdown",
   "metadata": {},
   "source": [
    "You will be able to:\n",
    "\n",
    "* Mathematically derive how many permutations there are for large sets\n",
    "* Calculate permutations of a subset\n",
    "* Calculate permutations with repetition and replacement"
   ]
  },
  {
   "cell_type": "markdown",
   "metadata": {},
   "source": [
    "## A Note on Factorials"
   ]
  },
  {
   "cell_type": "markdown",
   "metadata": {},
   "source": [
    "In the last lesson, we talked about permutations in the context of a coverband creating a setlist. We wanted to calculate how many ways we can order 3 songs in their setlist. We can use factorials for that. For 3 songs, this boils down to"
   ]
  },
  {
   "cell_type": "code",
   "execution_count": 1,
   "metadata": {},
   "outputs": [],
   "source": [
    "setlist = 3*2*1"
   ]
  },
  {
   "cell_type": "markdown",
   "metadata": {},
   "source": [
    "Now, writing this out is not an issue when $n$ is small. What if $n$ grows though? Imagine there are 10 songs in the setlist"
   ]
  },
  {
   "cell_type": "code",
   "execution_count": 2,
   "metadata": {},
   "outputs": [],
   "source": [
    "setlist = 10*9*8*7*6*5*4*3*2*1"
   ]
  },
  {
   "cell_type": "markdown",
   "metadata": {},
   "source": [
    "You wouldn't want to repeat this for 25 songs...  Let's create a function for this!"
   ]
  },
  {
   "cell_type": "markdown",
   "metadata": {},
   "source": [
    "What you'll do below is:\n",
    "\n",
    "- create a function that takes one argument, $n$\n",
    "- initialize `prod` as 1\n",
    "- next, use `prod` in a `while` loop (what is the stopping criterion?)\n",
    "- update $n$ so it decreases with value 1 each iteration. This way you essentially calculate $n*(n-1)*(n-2)*\\ldots*(1)$"
   ]
  },
  {
   "cell_type": "code",
   "execution_count": 3,
   "metadata": {},
   "outputs": [],
   "source": [
    "def factorial(n):\n",
    "    prod = 1\n",
    "    while n > 1:\n",
    "        prod *= n\n",
    "        n -= 1\n",
    "    return prod"
   ]
  },
  {
   "cell_type": "markdown",
   "metadata": {},
   "source": [
    "Now, test your function with n=20"
   ]
  },
  {
   "cell_type": "code",
   "execution_count": 4,
   "metadata": {},
   "outputs": [
    {
     "data": {
      "text/plain": [
       "2432902008176640000"
      ]
     },
     "execution_count": 4,
     "metadata": {},
     "output_type": "execute_result"
    }
   ],
   "source": [
    "factorial(20)"
   ]
  },
  {
   "cell_type": "markdown",
   "metadata": {},
   "source": [
    "Just so you know, Python has a built-in function `factorial` in the  `math` library as well! Let's use our own function in this lab, but just use the `math` function once to check your previous answer!"
   ]
  },
  {
   "cell_type": "code",
   "execution_count": 5,
   "metadata": {},
   "outputs": [
    {
     "data": {
      "text/plain": [
       "True"
      ]
     },
     "execution_count": 5,
     "metadata": {},
     "output_type": "execute_result"
    }
   ],
   "source": [
    "import math \n",
    "\n",
    "math.factorial(20) == factorial(20)"
   ]
  },
  {
   "cell_type": "markdown",
   "metadata": {},
   "source": [
    "## Some Practice on Permutations"
   ]
  },
  {
   "cell_type": "markdown",
   "metadata": {},
   "source": [
    "Let's go back to the appointments exercise from the last lab. A teaching assistant is holding office hours so students can make appointments. She has 6 appointments scheduled today, 3 by male students and 3 by female students. How many ways are there to order the appointments, based on gender of the students? Just to clarify, we're looking for size of the sample space that lists possible orders like this:\n",
    "\n",
    "FMFMFM <br />\n",
    "MMMFFF <br />\n",
    "FMFMMF <br />\n",
    "...\n",
    "\n",
    "\n",
    "From what you learned in the permutations lecture, you now have a more structured way of getting to the whole sample space! \n",
    "\n",
    "Hint: a permutation with repetition is needed here, with formula $\\dfrac{n!}{n_1!n_2!\\ldots n_k!}$. Think carefully of what needs to go in the denominator and the numerator respectively. "
   ]
  },
  {
   "cell_type": "code",
   "execution_count": 6,
   "metadata": {},
   "outputs": [
    {
     "data": {
      "text/plain": [
       "720"
      ]
     },
     "execution_count": 6,
     "metadata": {},
     "output_type": "execute_result"
    }
   ],
   "source": [
    "app_num = factorial(6)\n",
    "app_num"
   ]
  },
  {
   "cell_type": "code",
   "execution_count": 7,
   "metadata": {},
   "outputs": [
    {
     "data": {
      "text/plain": [
       "36"
      ]
     },
     "execution_count": 7,
     "metadata": {},
     "output_type": "execute_result"
    }
   ],
   "source": [
    "app_denom = factorial(3)*factorial(3)\n",
    "app_denom"
   ]
  },
  {
   "cell_type": "code",
   "execution_count": 8,
   "metadata": {},
   "outputs": [
    {
     "data": {
      "text/plain": [
       "20.0"
      ]
     },
     "execution_count": 8,
     "metadata": {},
     "output_type": "execute_result"
    }
   ],
   "source": [
    "app_total = app_num/app_denom\n",
    "app_total"
   ]
  },
  {
   "cell_type": "markdown",
   "metadata": {},
   "source": [
    "## Permutations: Hack a Phone"
   ]
  },
  {
   "cell_type": "markdown",
   "metadata": {},
   "source": [
    "You misplaced your iPhone and are afraid it was stolen. Luckily, your iPhone needs a 4-digit code in order to get in. Imagine that a potential thief can do five attempts at getting the code right before the phone is permanently locked, how big is the chance the thief unlocks the phone?"
   ]
  },
  {
   "cell_type": "markdown",
   "metadata": {},
   "source": [
    "Think about the sample space and the event space separately. You'll use the formula $P(E) = \\dfrac{|E|}{|S|}$ here.\n",
    "\n",
    "So what should go in the denominator?"
   ]
  },
  {
   "cell_type": "code",
   "execution_count": 9,
   "metadata": {},
   "outputs": [
    {
     "data": {
      "text/plain": [
       "10000"
      ]
     },
     "execution_count": 9,
     "metadata": {},
     "output_type": "execute_result"
    }
   ],
   "source": [
    "denom_phone = 10**4\n",
    "denom_phone"
   ]
  },
  {
   "cell_type": "markdown",
   "metadata": {},
   "source": [
    "And the numerator?"
   ]
  },
  {
   "cell_type": "code",
   "execution_count": 10,
   "metadata": {},
   "outputs": [
    {
     "data": {
      "text/plain": [
       "5"
      ]
     },
     "execution_count": 10,
     "metadata": {},
     "output_type": "execute_result"
    }
   ],
   "source": [
    "numer_phone = 5\n",
    "numer_phone"
   ]
  },
  {
   "cell_type": "code",
   "execution_count": 11,
   "metadata": {},
   "outputs": [
    {
     "data": {
      "text/plain": [
       "0.0005"
      ]
     },
     "execution_count": 11,
     "metadata": {},
     "output_type": "execute_result"
    }
   ],
   "source": [
    "prob_unlock = numer_phone/denom_phone\n",
    "prob_unlock"
   ]
  },
  {
   "cell_type": "markdown",
   "metadata": {},
   "source": [
    "Right before you lost your phone you ate a pretzel, and you are pretty sure a grease pattern was left on the four crucial digits of your screen. The four letters in your access code are 3,4,7 and 8, and you realize that this information can increase the thief's chances massively. Assuming the thief interprets the smudgemarks in an intelligent way, what are the chances that the phone will be unlocked successfully?"
   ]
  },
  {
   "cell_type": "code",
   "execution_count": 12,
   "metadata": {},
   "outputs": [
    {
     "data": {
      "text/plain": [
       "24"
      ]
     },
     "execution_count": 12,
     "metadata": {},
     "output_type": "execute_result"
    }
   ],
   "source": [
    "denom_phone_smudge = factorial(4) #or math.factorial(4)\n",
    "denom_phone_smudge"
   ]
  },
  {
   "cell_type": "code",
   "execution_count": 13,
   "metadata": {},
   "outputs": [
    {
     "data": {
      "text/plain": [
       "5"
      ]
     },
     "execution_count": 13,
     "metadata": {},
     "output_type": "execute_result"
    }
   ],
   "source": [
    "numer_phone_smudge = 5\n",
    "numer_phone_smudge"
   ]
  },
  {
   "cell_type": "code",
   "execution_count": 14,
   "metadata": {},
   "outputs": [
    {
     "data": {
      "text/plain": [
       "0.20833333333333334"
      ]
     },
     "execution_count": 14,
     "metadata": {},
     "output_type": "execute_result"
    }
   ],
   "source": [
    "prob_unlock_smudge = numer_phone_smudge/denom_phone_smudge\n",
    "prob_unlock_smudge"
   ]
  },
  {
   "cell_type": "markdown",
   "metadata": {},
   "source": [
    "Now, imagine you chose an iphone access code containing 3 different numbers, with numbers 2,7 and 8 (the code is still 4 digits). Now, the thief knows 1 number was reused (permutations with repetition!), but he doesn't know which one. what is the probability now that the phone will be unlocked successfully?\n",
    "\n",
    "- For the denominator here, use a permutation with repetition, along with the fact that **you don't know which one is repeated**. Hint: you'll have to multiply your final \"permutation with repetition\"-result to account for that.\n",
    "- For the numerator, use the numerator you used before: the number of trials the thief can try before the phone access is blocked.\n"
   ]
  },
  {
   "cell_type": "code",
   "execution_count": 15,
   "metadata": {},
   "outputs": [
    {
     "data": {
      "text/plain": [
       "36.0"
      ]
     },
     "execution_count": 15,
     "metadata": {},
     "output_type": "execute_result"
    }
   ],
   "source": [
    "denom_phone_smudge_2 = (factorial(4)/factorial(2))*3 #or use math.factorial(4)\n",
    "denom_phone_smudge_2"
   ]
  },
  {
   "cell_type": "code",
   "execution_count": 16,
   "metadata": {},
   "outputs": [
    {
     "data": {
      "text/plain": [
       "5"
      ]
     },
     "execution_count": 16,
     "metadata": {},
     "output_type": "execute_result"
    }
   ],
   "source": [
    "numer_phone_smudge_2 = numer_phone_smudge \n",
    "numer_phone_smudge_2"
   ]
  },
  {
   "cell_type": "code",
   "execution_count": 17,
   "metadata": {},
   "outputs": [
    {
     "data": {
      "text/plain": [
       "0.1388888888888889"
      ]
     },
     "execution_count": 17,
     "metadata": {},
     "output_type": "execute_result"
    }
   ],
   "source": [
    "prob_unlock_smudge_2 = numer_phone_smudge/denom_phone_smudge_2\n",
    "prob_unlock_smudge_2"
   ]
  },
  {
   "cell_type": "markdown",
   "metadata": {},
   "source": [
    "## Permutations to Find the Sample and Event Space"
   ]
  },
  {
   "cell_type": "markdown",
   "metadata": {},
   "source": [
    "What are the odds of throwing a \"full house\" when throwing 5 dice?  Recall, a full house means that you'd throw a three of a certain number along with a pair of a different number."
   ]
  },
  {
   "cell_type": "markdown",
   "metadata": {},
   "source": [
    "###  a) Sample space"
   ]
  },
  {
   "cell_type": "markdown",
   "metadata": {},
   "source": [
    "First, calculate the sample space. Recall that replacement is possible here."
   ]
  },
  {
   "cell_type": "code",
   "execution_count": 18,
   "metadata": {},
   "outputs": [
    {
     "data": {
      "text/plain": [
       "array([[1, 1, 1, 1, 1],\n",
       "       [1, 1, 1, 1, 2],\n",
       "       [1, 1, 1, 1, 3],\n",
       "       ...,\n",
       "       [6, 6, 6, 6, 4],\n",
       "       [6, 6, 6, 6, 5],\n",
       "       [6, 6, 6, 6, 6]])"
      ]
     },
     "execution_count": 18,
     "metadata": {},
     "output_type": "execute_result"
    }
   ],
   "source": [
    "# each die has value 1 - 6 and we roll 5 times, so\n",
    "import numpy as np\n",
    "\n",
    "sample_space_fh = np.array([(d1, d2, d3, d4, d5) for d1 in range(1, 7) for d2 in range(1,7) for d3 in range(1,7) for d4 in range(1,7) for d5 in range(1,7)])\n",
    "sample_space_fh"
   ]
  },
  {
   "cell_type": "code",
   "execution_count": 19,
   "metadata": {},
   "outputs": [
    {
     "data": {
      "text/plain": [
       "7776"
      ]
     },
     "execution_count": 19,
     "metadata": {},
     "output_type": "execute_result"
    }
   ],
   "source": [
    "size_sample_space = len(sample_space_fh)\n",
    "size_sample_space"
   ]
  },
  {
   "cell_type": "code",
   "execution_count": 20,
   "metadata": {},
   "outputs": [
    {
     "data": {
      "text/plain": [
       "True"
      ]
     },
     "execution_count": 20,
     "metadata": {},
     "output_type": "execute_result"
    }
   ],
   "source": [
    "# note that we don't actually have to build the sample space, given that the initial logic dictates that size_sample_space==6^5\n",
    "#   let's confirm\n",
    "size_sample_space == 6**5"
   ]
  },
  {
   "cell_type": "markdown",
   "metadata": {},
   "source": [
    "### b) Event space"
   ]
  },
  {
   "cell_type": "markdown",
   "metadata": {},
   "source": [
    "Next, calculate the event space. The best way to think of the event space here is to split it up in 2 parts:\n",
    "- first, try to constrain your problem to a more specific problem, let's say, how many ways can we throw a full house if we have a pair of 4s and three 6s?\n",
    "- next, extend your problem by asking yourself how many *different* full houses are possible.\n",
    "- multiply the two!"
   ]
  },
  {
   "cell_type": "code",
   "execution_count": 21,
   "metadata": {},
   "outputs": [
    {
     "data": {
      "text/plain": [
       "300"
      ]
     },
     "execution_count": 21,
     "metadata": {},
     "output_type": "execute_result"
    }
   ],
   "source": [
    "# let's deal with pairs which will constitute a satsifying full house\n",
    "#   e.g. {1, 1}, {2, 2}, ... {6, 6}, so...\n",
    "#   there are 6 ways to so this\n",
    "#\n",
    "#   furthermore, for each pair (2-element set), there are corresponding 3-element sets which will constitute a full house\n",
    "#      for example:\n",
    "#      {1, 1}: {2, 2, 2}, {3, 3, 3}, ..., {6, 6, 6}   (there are 5 such 3-element sets)\n",
    "#      {2, 2}: {1, 1, 1}, {3, 3, 3}, ..., {6, 6, 6}   (again, there are 5 such 3-element sets)\n",
    "#      .\n",
    "#      .\n",
    "#      .\n",
    "#      {6, 6}: {1, 1, 1}, {2, 2, 2}, ..., {5, 5, 5}   (also, there are 5 such 3-element sets)\n",
    "#\n",
    "#   i.e. for each of the 6 satisfying 2-element sets, there are 5 corresponding satisfying 3-element sets\n",
    "#\n",
    "#   thus, there are 6*5 couplings of satisfying 2-element sets and 3-element sets to get a full house\n",
    "#\n",
    "#   BUT, this says nothing about the ARRANGEMENT of the dice - we need to account for that somehow\n",
    "#      for example for the satisfying coupling of:\n",
    "#         {1,1}, {2,2,2}: we have the following arrangments:\n",
    "#            [1,1,2,2,2], \n",
    "#            [1,2,1,2,2],\n",
    "#            [1,2,2,1,2],\n",
    "#            [1,2,2,2,1],\n",
    "#            [2,1,1,2,2],\n",
    "#            [2,1,2,1,2],\n",
    "#            [2,1,2,2,1],\n",
    "#            [2,2,1,1,2],\n",
    "#            [2,2,1,2,1],\n",
    "#            [2,2,2,1,1],\n",
    "#\n",
    "#   Thus, for each of the 6*5 couplings of satisfying 2-element sets and 3-element sets, there are 10 possible \"arrangements\".\n",
    "#   Therefore, the total number of ways to get a full house are 6*5*10, or 300.\n",
    "count_of_satisfying_2_element_sets = 6\n",
    "count_of_satisfyinf_3_element_sets_for_each_2_element_set = 5\n",
    "count_of_arrangements = 10\n",
    "manually_derived_ways_to_get_fh = count_of_satisfying_2_element_sets * count_of_satisfyinf_3_element_sets_for_each_2_element_set * count_of_arrangements\n",
    "manually_derived_ways_to_get_fh"
   ]
  },
  {
   "cell_type": "markdown",
   "metadata": {},
   "source": [
    "Then the event space is"
   ]
  },
  {
   "cell_type": "code",
   "execution_count": 22,
   "metadata": {},
   "outputs": [
    {
     "name": "stdout",
     "output_type": "stream",
     "text": [
      "[[1 1 1 2 2]\n",
      " [1 1 1 3 3]\n",
      " [1 1 1 4 4]\n",
      " [1 1 1 5 5]\n",
      " [1 1 1 6 6]]\n",
      "[[1 1 2 1 2]\n",
      " [1 1 2 2 1]\n",
      " [1 1 2 2 2]\n",
      " [1 1 3 1 3]\n",
      " [1 1 3 3 1]]\n"
     ]
    }
   ],
   "source": [
    "# one way to build the event space is simply to convert each item in the sample space to sets\n",
    "#   since, by definition, sets do not admit duplicate items,\n",
    "#      any set-converted-item from the sample space that has two distinct elements,\n",
    "#         where each of those set-converted-items occurs 2 or 3 times in the original sample space item\n",
    "#      will result from a sample space item that has satisfying 2-element and 3-element sets\n",
    "event_space_fh = np.array(\n",
    "    list(\n",
    "        filter(\n",
    "            lambda roll: len(set(roll))==2 and (list(roll).count(roll[0])==2 or list(roll).count(roll[0])==3)\n",
    "            , list(sample_space_fh)\n",
    "        )\n",
    "    )\n",
    ")\n",
    "\n",
    "# output some results to show this...\n",
    "print(event_space_fh[0:5])\n",
    "print(event_space_fh[5:10])"
   ]
  },
  {
   "cell_type": "code",
   "execution_count": 23,
   "metadata": {},
   "outputs": [
    {
     "data": {
      "text/plain": [
       "300"
      ]
     },
     "execution_count": 23,
     "metadata": {},
     "output_type": "execute_result"
    }
   ],
   "source": [
    "len(event_space_fh)"
   ]
  },
  {
   "cell_type": "code",
   "execution_count": 29,
   "metadata": {},
   "outputs": [],
   "source": [
    "# now let's use combinatorics\n",
    "#   binomial coefficients tells how how many ways we can \"arrange\" 5 things taken 3 (or 2) at a time\n",
    "#      this is also known as \"n choose r\" and a function to compute it is given below\n",
    "\n",
    "def nCr(n, r):\n",
    "    return int(factorial(n)/(factorial(r)*factorial(n-r)))"
   ]
  },
  {
   "cell_type": "code",
   "execution_count": 30,
   "metadata": {},
   "outputs": [
    {
     "data": {
      "text/plain": [
       "300"
      ]
     },
     "execution_count": 30,
     "metadata": {},
     "output_type": "execute_result"
    }
   ],
   "source": [
    "# since nCr gives us the number of ways to arrange 5 things taken 3 at a time, we have \n",
    "computed_ways_to_get_fh = count_of_satisfying_2_element_sets \\\n",
    "    * count_of_satisfyinf_3_element_sets_for_each_2_element_set \\\n",
    "    * nCr(5, 3)\n",
    "computed_ways_to_get_fh"
   ]
  },
  {
   "cell_type": "markdown",
   "metadata": {},
   "source": [
    "### c) Probability of full house"
   ]
  },
  {
   "cell_type": "code",
   "execution_count": 26,
   "metadata": {},
   "outputs": [
    {
     "data": {
      "text/plain": [
       "0.038580246913580245"
      ]
     },
     "execution_count": 26,
     "metadata": {},
     "output_type": "execute_result"
    }
   ],
   "source": [
    "prob_fh = computed_ways_to_get_fh/size_sample_space\n",
    "prob_fh"
   ]
  },
  {
   "cell_type": "markdown",
   "metadata": {},
   "source": [
    "## Summary"
   ]
  },
  {
   "cell_type": "markdown",
   "metadata": {},
   "source": [
    "Great job! You got quite some practice with permutations and factorials, and were even able to use it to calculate probability. Now, we'll move over to another concept in combinatorics: combinations."
   ]
  }
 ],
 "metadata": {
  "kernelspec": {
   "display_name": "Python [conda env:learn-env] *",
   "language": "python",
   "name": "conda-env-learn-env-py"
  },
  "language_info": {
   "codemirror_mode": {
    "name": "ipython",
    "version": 3
   },
   "file_extension": ".py",
   "mimetype": "text/x-python",
   "name": "python",
   "nbconvert_exporter": "python",
   "pygments_lexer": "ipython3",
   "version": "3.6.10"
  },
  "toc": {
   "base_numbering": 1,
   "nav_menu": {},
   "number_sections": true,
   "sideBar": true,
   "skip_h1_title": false,
   "title_cell": "Table of Contents",
   "title_sidebar": "Contents",
   "toc_cell": false,
   "toc_position": {},
   "toc_section_display": true,
   "toc_window_display": false
  }
 },
 "nbformat": 4,
 "nbformat_minor": 4
}
